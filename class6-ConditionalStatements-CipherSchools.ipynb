{
 "cells": [
  {
   "cell_type": "markdown",
   "metadata": {},
   "source": [
    "## Control Flow Statements\n",
    "### 1. Conditional Statements\n",
    "- if - elif - else"
   ]
  },
  {
   "cell_type": "code",
   "execution_count": null,
   "metadata": {},
   "outputs": [],
   "source": [
    "# Syntax\n",
    "if a:\n",
    "    do this\n",
    "else: \n",
    "    do this"
   ]
  },
  {
   "cell_type": "markdown",
   "metadata": {},
   "source": [
    "After if condition, indentation should be done for the block of statements in the next line. \n",
    "\n",
    "--> Indentation can be 2 spaces, 4 spaces , 8 spaces, a tab"
   ]
  },
  {
   "cell_type": "code",
   "execution_count": 1,
   "metadata": {},
   "outputs": [
    {
     "name": "stdout",
     "output_type": "stream",
     "text": [
      "The Value is true\n",
      "End\n"
     ]
    }
   ],
   "source": [
    "a = True\n",
    "if a:\n",
    "    print(\"The Value is true\")\n",
    "print(\"End\")"
   ]
  },
  {
   "cell_type": "code",
   "execution_count": 2,
   "metadata": {},
   "outputs": [
    {
     "name": "stdout",
     "output_type": "stream",
     "text": [
      "The Value is False\n"
     ]
    }
   ],
   "source": [
    "a = False\n",
    "if a:\n",
    "    print(\"The Value is True\")\n",
    "else:\n",
    "    print(\"The Value is False\")"
   ]
  },
  {
   "cell_type": "code",
   "execution_count": 3,
   "metadata": {},
   "outputs": [
    {
     "name": "stdout",
     "output_type": "stream",
     "text": [
      "The number is 5\n"
     ]
    }
   ],
   "source": [
    "a = 5\n",
    "if a==3:\n",
    "    print(\"The number is 3\")\n",
    "elif a==5:\n",
    "    print(\"The number is 5\")\n",
    "else:\n",
    "    print(\"Nah, it ain't the number\")"
   ]
  },
  {
   "cell_type": "markdown",
   "metadata": {},
   "source": [
    "- #### Nested if-else"
   ]
  },
  {
   "cell_type": "code",
   "execution_count": null,
   "metadata": {},
   "outputs": [],
   "source": [
    "q = can profile A access profile B\n",
    "a = isFriend\n",
    "b = isBlocked\n",
    "c = isAdmin\n",
    "d = isMark\n",
    "\n",
    "a b c d q\n",
    "0 0 0 0 0 \n",
    "0 0 0 1 1 \n",
    "0 0 1 0 1\n",
    "0 0 1 1 1\n",
    "0 1 1 0 0\n",
    "0 1 1 1 1\n",
    "1 0 0 0 1\n",
    "1 0 0 1 1\n",
    "1 0 1 0 1\n",
    "1 0 1 1 1\n",
    "1 1 0 0 0\n",
    "1 1 0 1 1\n",
    "1 1 1 0 1\n",
    "1 1 1 1 1\n",
    "\n",
    "if a:\n",
    "    print(\"has access\")\n",
    "else:\n",
    "    print(\"access\")\n"
   ]
  },
  {
   "cell_type": "code",
   "execution_count": null,
   "metadata": {},
   "outputs": [],
   "source": []
  }
 ],
 "metadata": {
  "kernelspec": {
   "display_name": "Python 3.10.7 64-bit",
   "language": "python",
   "name": "python3"
  },
  "language_info": {
   "codemirror_mode": {
    "name": "ipython",
    "version": 3
   },
   "file_extension": ".py",
   "mimetype": "text/x-python",
   "name": "python",
   "nbconvert_exporter": "python",
   "pygments_lexer": "ipython3",
   "version": "3.10.7"
  },
  "orig_nbformat": 4,
  "vscode": {
   "interpreter": {
    "hash": "d7e02be9b998c49b29c93fb110217049b290f21a9cc73c00e7cb6e2c8f3f70f7"
   }
  }
 },
 "nbformat": 4,
 "nbformat_minor": 2
}
