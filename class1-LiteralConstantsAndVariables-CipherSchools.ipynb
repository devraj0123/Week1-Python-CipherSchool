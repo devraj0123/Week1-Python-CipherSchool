{
 "cells": [
  {
   "cell_type": "markdown",
   "id": "81726019",
   "metadata": {},
   "source": [
    "### Commands\n",
    "- To execute code :  shift + enter\n",
    "- To create a block above current block : a\n",
    "- To create a block below current blocks : b\n",
    "- To Delete current block : dd"
   ]
  },
  {
   "cell_type": "code",
   "execution_count": 1,
   "metadata": {},
   "outputs": [
    {
     "name": "stdout",
     "output_type": "stream",
     "text": [
      "Hello World\n"
     ]
    }
   ],
   "source": [
    "print(\"Hello World\")"
   ]
  },
  {
   "cell_type": "markdown",
   "id": "183bf211",
   "metadata": {},
   "source": [
    " Every line executed in python is either\n",
    "- Statement\n",
    "- Expression"
   ]
  },
  {
   "cell_type": "markdown",
   "id": "f5f495fa",
   "metadata": {},
   "source": [
    "#### Comments"
   ]
  },
  {
   "cell_type": "code",
   "execution_count": 2,
   "id": "bf48f639",
   "metadata": {},
   "outputs": [],
   "source": [
    "# A single line comment"
   ]
  },
  {
   "cell_type": "code",
   "execution_count": 3,
   "id": "c59aa5d5",
   "metadata": {},
   "outputs": [
    {
     "data": {
      "text/plain": [
       "' \\nSingle quotation marked multiple line comment\\n'"
      ]
     },
     "execution_count": 3,
     "metadata": {},
     "output_type": "execute_result"
    }
   ],
   "source": [
    "''' \n",
    "Single quotation marked multiple line comment\n",
    "'''"
   ]
  },
  {
   "cell_type": "code",
   "execution_count": 5,
   "id": "a9c0a353",
   "metadata": {},
   "outputs": [
    {
     "data": {
      "text/plain": [
       "'\\nDouble quotation marked multiple line comment\\n'"
      ]
     },
     "execution_count": 5,
     "metadata": {},
     "output_type": "execute_result"
    }
   ],
   "source": [
    "\"\"\"\n",
    "Double quotation marked multiple line comment\n",
    "\"\"\""
   ]
  },
  {
   "cell_type": "markdown",
   "id": "6c871ea6",
   "metadata": {},
   "source": [
    "## # Literal Constants\n",
    "- Numbers\n",
    "    - Integers\n",
    "    - Float \n",
    "- Strings\n",
    "    - Single quotes\n",
    "    - Double quotes\n",
    "    - Triple quotes\n",
    "    - Escape Sequences\n",
    "    - Explicit line joining\n",
    "    \n"
   ]
  },
  {
   "cell_type": "markdown",
   "id": "e7a2d6d6",
   "metadata": {},
   "source": [
    "The C layer Strings of Python\n",
    "- Integers\n",
    "- Float\n",
    "- Strings\n",
    "- Complex\n"
   ]
  },
  {
   "cell_type": "code",
   "execution_count": 9,
   "id": "1cc700ae",
   "metadata": {},
   "outputs": [
    {
     "data": {
      "text/plain": [
       "True"
      ]
     },
     "execution_count": 9,
     "metadata": {},
     "output_type": "execute_result"
    }
   ],
   "source": [
    "isinstance(\"a\", str)"
   ]
  },
  {
   "cell_type": "markdown",
   "id": "33938395",
   "metadata": {},
   "source": [
    "Assigning an Integer into a Variable:"
   ]
  },
  {
   "cell_type": "code",
   "execution_count": 10,
   "id": "8954904e",
   "metadata": {},
   "outputs": [],
   "source": [
    "a=69"
   ]
  },
  {
   "cell_type": "markdown",
   "id": "1cb41a0b",
   "metadata": {},
   "source": [
    "Printing the variable."
   ]
  },
  {
   "cell_type": "code",
   "execution_count": 11,
   "id": "745541e1",
   "metadata": {},
   "outputs": [
    {
     "name": "stdout",
     "output_type": "stream",
     "text": [
      "69\n"
     ]
    }
   ],
   "source": [
    "print(a)"
   ]
  },
  {
   "cell_type": "markdown",
   "id": "12c7565d",
   "metadata": {},
   "source": [
    "Assigning a String Value into a Variable:"
   ]
  },
  {
   "cell_type": "code",
   "execution_count": 7,
   "id": "8805e4a5",
   "metadata": {},
   "outputs": [],
   "source": [
    "a=\"How Ya Doin'?\""
   ]
  },
  {
   "cell_type": "markdown",
   "id": "06549eab",
   "metadata": {},
   "source": [
    "The type of the variable."
   ]
  },
  {
   "cell_type": "code",
   "execution_count": 8,
   "id": "c9c621c0",
   "metadata": {},
   "outputs": [
    {
     "data": {
      "text/plain": [
       "str"
      ]
     },
     "execution_count": 8,
     "metadata": {},
     "output_type": "execute_result"
    }
   ],
   "source": [
    "type(a)"
   ]
  },
  {
   "cell_type": "code",
   "execution_count": 16,
   "id": "79c52946",
   "metadata": {},
   "outputs": [],
   "source": [
    "a=192"
   ]
  },
  {
   "cell_type": "markdown",
   "id": "2e5747b6",
   "metadata": {},
   "source": [
    "- id() gets the memory location of the value in the variable."
   ]
  },
  {
   "cell_type": "code",
   "execution_count": 15,
   "id": "67bdeb29",
   "metadata": {},
   "outputs": [
    {
     "name": "stdout",
     "output_type": "stream",
     "text": [
      "1942711638480\n"
     ]
    }
   ],
   "source": [
    "print(id(a))"
   ]
  },
  {
   "cell_type": "markdown",
   "id": "11f3508b",
   "metadata": {},
   "source": [
    "## # Variables\n",
    "- Variable is a type of identifiers.\n",
    "- The first character of the variable should be either a Lowercase ASCII, or an Uppercase ACSII, or an Underscore.\n"
   ]
  },
  {
   "cell_type": "code",
   "execution_count": 1,
   "id": "254742b1",
   "metadata": {},
   "outputs": [],
   "source": [
    "# Example:\n",
    "a=\"Cleo\"\n",
    "A=192\n",
    "_a=\"Saaya\""
   ]
  }
 ],
 "metadata": {
  "kernelspec": {
   "display_name": "Python 3.10.7 64-bit",
   "language": "python",
   "name": "python3"
  },
  "language_info": {
   "codemirror_mode": {
    "name": "ipython",
    "version": 3
   },
   "file_extension": ".py",
   "mimetype": "text/x-python",
   "name": "python",
   "nbconvert_exporter": "python",
   "pygments_lexer": "ipython3",
   "version": "3.10.7"
  },
  "vscode": {
   "interpreter": {
    "hash": "d7e02be9b998c49b29c93fb110217049b290f21a9cc73c00e7cb6e2c8f3f70f7"
   }
  }
 },
 "nbformat": 4,
 "nbformat_minor": 5
}
